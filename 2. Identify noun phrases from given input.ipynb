{
 "cells": [
  {
   "cell_type": "markdown",
   "metadata": {},
   "source": [
    "## 2. Identify noun phrases from given input "
   ]
  },
  {
   "cell_type": "markdown",
   "metadata": {},
   "source": [
    "### Instructions on execution"
   ]
  },
  {
   "cell_type": "markdown",
   "metadata": {},
   "source": [
    "Steps to follow to execute the below code:\n",
    "1. Make sure all the required packages mentioned in the \"requirements.txt\" file are installed\n",
    "2. Place the unzipped pdf documents in a folder\n",
    "3. Configure the \"base_path\" in the \"conf.json\" to the path to folder in which pdfs are placed\n",
    "4. Make sure the \"conf.json\" file is always in the same location as this ipynb file"
   ]
  },
  {
   "cell_type": "markdown",
   "metadata": {},
   "source": [
    "### Execute the below code for results"
   ]
  },
  {
   "cell_type": "code",
   "execution_count": 2,
   "metadata": {},
   "outputs": [
    {
     "name": "stdout",
     "output_type": "stream",
     "text": [
      "16017sec.pdf\n",
      "===============================================================\n",
      "No. of word phrases in the documnet : 393\n",
      "Noun phrases in the document : \n",
      "['restriction', 'consideration', 'Transaction', 'Rate', 'measure', 'Anything', 'property', 'cither', 'accordance', 'use', 'valuation', 'YES', 'Minimum', 'multiple', 'currency', 'sum', 'ExchangeDate', 'Rounding', 'Alternative', 'Performance', 'Independent', 'items', 'Page', 'Termination', 'Part', 'banks', 'Time', 'Disputing', 'minus', 'Thresholds', 'Definition', 'form', 'credit', 'Original', 'Final', 'effect', 'meaning', 'New', 'Dealers', 'liens', 'Event', 'demands', 'terms', 'Recalculation', 'part', 'calculations', 'rise', 'purpose', 'types', 'Value', 'Transfer', 'Address', 'times', 'rest', 'DefaultIf', 'English', 'reference', 'users', 'clearance', 'date', 'location', 'execution', 'favour', 'Timing', 'Daily', 'stamp', 'charges', 'Definitions', 'December', 'instruments', 'Reuters', 'Association', 'Am', 'valuations', 'pledge', 'Base', 'market', 'appetite', 'WHEREOF', 'USD', 'considerations', 'Transferor', 'Confirmations', 'pursuant', 'USDParty', 'instructions', 'lien', 'behalf', 'support', 'International', 'Effective', 'accounts', 'relation', 'Reasonable', 'entirety', 'sterling', 'tax', 'inform', 'obligations', 'Confirmation', 'Agreements', 'price', 'ISDA', 'otherI', 'provisions', 'expenses', 'Exposure', 'messaging', 'words', 'Certain', 'ANNEXto', 'tenns', 'Section', 'Days', 'owner', 'address', 'Bilateral', 'average', 'Distributions', 'document', 'encumbrances', 'Delivery', 'pounds', 'Good', 'interest', 'Eligible', 'No', 'Annex', 'thedemand', 'Loss', 'agreements', 'Calculations', 'aggregate', 'Currency', 'payment', 'delivery', 'page', 'item', 'Users', 'Commercially', 'stamps', 'Elections', 'line', 'time', 'costs', 'person', 'securities', 'Deed', 'redemption', 'Amount', 'compounding', 'Security', 'Faith', 'respect', 'meanings', 'Generale', 'event', 'Exchanges', 'days', 'circumstances', 'Swap', 'acceptance', 'Valuation', 'institution', 'spot', 'Obligations', 'means', 'quotations', 'following', 'notices', 'type', 'Specifications', 'security', 'Update', 'London', 'Agreement', 'law', 'Subject', 'Agreementdated', 'word', 'sentence', 'depository', 'Notification', 'avoidance', 'Miscellaneous', 'settlement', 'Transfers', 'recalculation', 'Threshold', 'calculation', 'Agent', 'principal', 'mortgage', 'replaces', 'Amounts', 'arrangements', 'consent', 'Balance', 'bid', 'Unpaid', 'iii', 'Party', 'Title', 'DefaultThe', 'month', 'Schedule', 'amount', 'parties', 'Exchange', 'ValueThe', 'volatility', 'risk', 'system', 'Additional', 'assets', 'transaction', 'faith', 'ELIGIBLE', 'Replacement', 'statements', 'metals', 'II', 'Percentage', 'advisers', 'limitation', 'Multiple', 'Resolution', 'thereof', 'Interest', 'Local', 'applies', 'right', 'percentage', 'charge', 'encumbrance', 'deposits', 'Dealets', 'Persons', 'payments', 'Day', 'll', 'occurrence', 'telex', 'amounts', 'period', 'distributions', 'Settlement', 'Paragraph', 'centre', 'dealings', 'Transactions', 'caption', 'currencies', 'zero', 'Return', 'completion', 'Transferee', 'value', 'bank', 'hereunder', 'DefinitionsAs', 'creation', 'ii', 'entity', 'liability', 'Period', 'supersedes', 'transactions', 'result', 'Date', 'Representation', 'Variables', 'WITNESS', 'source', 'request', 'Amountexceeds', 'Market', 'hereof', 'business', 'dispute', 'Valuations', 'portion', 'party', 'exchange', 'Affected', 'transfer', 'sufficient', 'resolution', 'ount', 'notice', 'Attention', 'subject', 'holder', 'rate', 'close', 'Credit', 'equals', 'Law', 'Dispute', 'purposes', 'maturity', 'Form', 'trade', 'Facsimile', 'conflict', 'claims', 'place', 'duty', 'attempt', 'number', 'CurrencyYES', 'transfers', 'herein', 'Societe', 'basis', 'wording', 'specifications', 'collateral', 'Master', 'Notices', 'definition', 'Equivalent', 'ValuationPercentagecash', 'recipient', 'prepare', 'account', 'title', 'proceeds', 'Quotation', 'Default', 'consisting', 'extent', 'mean', 'representation', 'Valub', 'determinations', 'Quotations', 'Asset', 'transmission', 'forms', 'doubt', 'Telephone', 'SUPPORT', 'therein', 'demand', 'estimates', 'failure', 'cash', 'documents', 'calendar', 'Matters', 'Relevant', 'ExpensesEach', 'references', 'dates', 'Information', 'end', 'inconsistency', 'description', 'supplements', 'Sections', 'communication', 'conditions', 'Equivalents', 'practice', 'arrangement', 'makers', 'manner', 'Collateral', 'term', 'Funds', 'Sharing', 'iv', 'applicable', 'issuer', 'York', 'Reference', 'Business', 'Support', 'Paragraphs', 'copy', 'Defaulting', 'COLLATERALCash', 'city', 'procedures', 'connection', 'Only', 'day', 'Nothing', 'Provisions', 'forth', 'case', 'Manner']\n",
      "---------------------------\n",
      "20197sec.pdf\n",
      "===============================================================\n",
      "No. of word phrases in the documnet : 521\n",
      "Noun phrases in the document : \n",
      "['consideration', 'restriction', 'Curaqao', 'Transaction', 'Rate', 'measure', 'Anything', 'Contracts', 'Notwithstanding', 'agreement', 'property', 'accordance', 'option', 'use', 'valuation', 'consist', 'Exposures', 'precedent', 'Minimum', 'multiple', 'currency', 'sum', 'Rounding', 'Specified', 'construction', 'Alternative', 'Performance', 'Independent', 'items', 'Page', 'Termination', 'Part', 'banks', 'Time', 'Affiliate', 'Disputing', 'minus', 'cc', 'Terms', 'Thresholds', 'Reconciliation', 'convenience', 'form', 'counterparties', 'difference', 'protocol', 'disposition', 'Annexes', 'July', 'credit', 'Original', 'effect', 'RepresentationsEach', 'meaning', 'New', 'Dealers', 'liens', 'Event', 'force', 'demands', 'THEN', 'Dealer', 'terms', 'Recalculation', 'States', 'part', 'modifications', 'addresses', 'calculations', 'rise', 'purpose', 'types', 'Value', 'Transfer', 'Address', 'times', 'rest', 'half', 'DefaultIf', 'action', 'English', 'confirmations', 'reference', 'users', 'clearance', 'bearer', 'becomes', 'Headings', 'vii', 'date', 'location', 'execution', 'favour', 'Substitution', 'Timing', 'MT', 'stamp', 'charges', 'Definitions', 'instruments', 'Portfolio', 'Reuters', 'Association', 'EONIA', 'Version', 'valuations', 'pledge', 'Base', 'market', 'WHEREOF', 'Confirmations', 'Transferor', 'pursuant', 'instructions', 'lien', 'behalf', 'Covered', 'International', 'support', 'disbursements', 'Determination', 'Short', 'AddnAttention', 'face', 'accounts', 'relation', 'theISDA', 'Reasonable', 'EUR', 'entirety', 'insertion', 'sterling', 'Nam', 'tax', 'obligations', 'inform', 'Confirmation', 'Disclosure', 'Agreements', 'Account', 'ISDA', 'price', 'matter', 'bb', 'Further', 'provisions', 'expenses', 'dealer', 'Counterparts', 'Exposure', 'legislation', 'RateEUR', 'words', 'messaging', 'Certain', 'ANNEXto', 'Section', 'owner', 'address', 'Bilateral', 'average', 'Distributions', 'document', 'thereunder', 'encumbrances', 'Delivery', 'pounds', 'Good', 'interest', 'Eligible', 'No', 'SWIFT', 'Swaps', 'movement', 'error', 'hereby', 'Booklet', 'Annex', 'Loss', 'Protocol', 'Calculations', 'aggregate', 'Currency', 'payment', 'delivery', 'page', 'Rights', 'Attachment', 'item', 'Users', 'Commercially', 'stamps', 'Elections', 'product', 'time', 'costs', 'person', 'securities', 'Deed', 'redemption', 'shareholders', 'Amount', 'equivalent', 'compounding', 'Security', 'preceding', 'Faith', 'respect', 'meanings', 'Parties', 'disputes', 'Appendix', 'event', 'Exchanges', 'understanding', 'days', 'Bank', 'Central', 'Swap', 'acceptance', 'gain', 'Valuation', 'institution', 'spot', 'Curasao', 'Obligations', 'means', 'quotations', 'report', 'following', 'notices', 'type', 'Specifications', 'security', 'London', 'Agreement', 'law', 'Continuation', 'Subject', 'Amendments', 'MtJvant', 'Derivatives', 'sentence', 'depository', 'fees', 'Notification', 'avoidance', 'Automatic', 'rules', 'interpretations', 'Miscellaneous', 'settlement', 'Transfers', 'clause', 'Threshold', 'recalculation', 'calculation', 'Internal', 'Agent', 'gent', 'aa', 'principal', 'mortgage', 'Amounts', 'arrangements', 'message', 'Jurisdiction', 'claim', 'consent', 'Code', 'counsel', 'Balance', 'rates', 'deduction', 'bid', 'Unpaid', 'iii', 'Party', 'November', 'Act', 'Title', 'cost', 'month', 'Schedule', 'exceeds', 'Phone', 'parties', 'amount', 'Exchange', 'addition', 'system', 'Incorporation', 'assets', 'transaction', 'faith', 'Replacement', 'thecase', 'statements', 'RepresentationEach', 'II', 'implementation', 'Percentage', 'advisers', 'May', 'limitation', 'representations', 'Resolution', 'Interest', 'Local', 'ANNEXTo', 'applies', 'right', 'percentage', 'charge', 'encumbrance', 'deposits', 'TARGET', 'Amendment', 'provision', 'Persons', 'payments', 'Day', 'll', 'NFC', 'occurrence', 'telex', 'February', 'MASTER', 'counterparts', 'funds', 'amounts', 'period', 'CET', 'Foreign', 'Euro', 'distributions', 'Settlement', 'Paragraph', 'centre', 'FEBRUARY', 'dealings', 'Transactions', 'expense', 'currencies', 'CreditSupport', 'PercentageCash', 'act', 'Return', 'HIRE', 'completion', 'equity', 'Transferee', 'value', 'bank', 'foregoing', 'United', 'hereunder', 'DefinitionsAs', 'AGREEMENTdated', 'creation', 'writings', 'indebtedness', 'letterhead', 'March', 'ii', 'entity', 'Withholding', 'Paris', 'liability', 'Period', 'designate', 'Adjustment', 'result', 'Date', 'Representation', 'Variables', 'WITNESS', 'transactions', 'Union', 'anything', 'EMIR', 'nature', 'Market', 'business', 'dispute', 'Revenue', 'Valuations', 'portion', 'party', 'amendment', 'exchange', 'Affected', 'transfer', 'sufficient', 'resolution', 'withholding', 'adequate', 'notice', 'Attention', 'contrary', 'headings', 'subject', 'holder', 'incorporate', 'rate', 'Third', 'benefit', 'rights', 'vi', 'close', 'Credit', 'equals', 'Dispute', 'Law', 'purposes', 'maturity', 'Entire', 'Form', 'FATCA', 'practices', 'trade', 'Tax', 'Facsimile', 'claims', 'course', 'place', 'Bloomberg', 'duty', 'attempt', 'number', 'loss', 'transfers', 'basis', 'hereto', 'collateral', 'Master', 'Notices', 'definition', 'Equivalent', 'represent', 'recipient', 'account', 'title', 'proceeds', 'Default', 'Quotation', 'material', 'consisting', 'Indebtedness', 'extent', 'mean', 'representation', 'Negative', 'damage', 'satisfaction', 'determinations', 'Quotations', 'transmission', 'Luxembourg', 'forms', 'amendments', 'doubt', 'Telephone', 'Ineligible', 'acknowledge', 'therein', 'SUPPORT', 'demand', 'failure', 'estimates', 'cash', 'documents', 'calendar', 'Matters', 'dates', 'references', 'ExpensesEach', 'discrepancies', 'end', 'inconsistency', 'description', 'supplements', 'Sections', 'communication', 'conditions', 'Payer', 'Equivalents', 'practice', 'arrangement', 'makers', 'manner', 'Collateral', 'term', 'communications', 'iv', 'applicable', 'regulations', 'York', 'issuer', 'Reference', 'Business', 'Support', 'andaccurate', 'shares', 'Defaulting', 'Paragraphs', 'copy', 'receipt', 'procedures', 'omission', 'connection', 'day', 'Difference', 'Nothing', 'AgreementThis', 'Provisions', 'forth', 'Compliance', 'case', 'Manner', 'Early']\n",
      "---------------------------\n",
      "English law VM CSA EXECUTED.PDF\n",
      "===============================================================\n"
     ]
    },
    {
     "name": "stdout",
     "output_type": "stream",
     "text": [
      "No. of word phrases in the documnet : 447\n",
      "Noun phrases in the document : \n",
      "['restriction', 'Transaction', 'Rate', 'Anything', 'agreement', 'agent', 'property', 'accordance', 'option', 'use', 'Sachs', 'precedent', 'Minimum', 'multiple', 'currency', 'sum', 'Rounding', 'Peterborough', 'Alternative', 'Performance', 'items', 'Termination', 'Offsets', 'banks', 'Time', 'Disputing', 'None', 'Thresholds', 'intermediaries', 'form', 'protocol', 'deliveries', 'credit', 'Original', 'definitions', 'effect', 'meaning', 'New', 'September', 'liens', 'Event', 'demands', 'terms', 'Recalculation', 'Legal', 'States', 'duly', 'part', 'calculations', 'rise', 'purpose', 'types', 'Value', 'Transfer', 'times', 'rest', 'determination', 'English', 'CREDIT', 'reference', 'users', 'Type', 'clearance', 'vii', 'date', 'execution', 'Document', 'favour', 'Timing', 'stamp', 'charges', 'Definitions', 'instruments', 'Netting', 'Association', 'valuations', 'pledge', 'Base', 'ANNEX', 'market', 'WHEREOF', 'reduction', 'USD', 'prevail', 'Transferor', 'Confirmations', 'pursuant', 'instructions', 'lien', 'behalf', 'Covered', 'International', 'support', 'Compounding', 'Effective', 'changes', 'face', 'accounts', 'relation', 'Reasonable', 'entirety', 'obligations', 'Haircut', 'tax', 'inform', 'Confirmation', 'Agreements', 'price', 'ISDA', 'Federal', 'provisions', 'expenses', 'Exposure', 'Certain', 'Dollars', 'Section', 'Days', 'owner', 'address', 'Bilateral', 'average', 'Interpretation', 'collection', 'Distributions', 'document', 'thereunder', 'encumbrances', 'Delivery', 'pounds', 'Good', 'interest', 'Eligible', 'No', 'Swaps', 'Fed', 'Annex', 'Loss', 'Calculations', 'Statistical', 'aggregate', 'Currency', 'October', 'payment', 'delivery', 'FOR', 'reason', 'Fleet', 'officers', 'item', 'Users', 'Commercially', 'Management', 'stamps', 'Elections', 'country', 'excess', 'Excluded', 'time', 'costs', 'person', 'remainder', 'FX', 'Goldman', 'securities', 'Deed', 'redemption', 'Fungible', 'relevant', 'Board', 'Reduction', 'Amount', 'equivalent', 'compounding', 'Security', 'Faith', 'respect', 'meanings', 'System', 'Payee', 'Generale', 'event', 'Scope', 'application', 'Exchanges', 'days', 'acceptance', 'August', 'Valuation', 'institution', 'spot', 'Obligations', 'means', 'quotations', 'following', 'notices', 'type', 'Specifications', 'Eligibility', 'novation', 'security', 'London', 'Agreement', 'law', 'information', 'Subject', 'All', 'offsets', 'Derivatives', 'sentence', 'depository', 'Notification', 'avoidance', 'paragraph', 'Miscellaneous', 'settlement', 'Transfers', 'recalculation', 'clause', 'calculation', 'nothing', 'Agent', 'principal', 'mortgage', 'arrangements', 'consent', 'Expenses', 'Balance', 'Street', 'Inconsistency', 'bid', 'Unpaid', 'iii', 'Party', 'MARGIN', 'Rue', 'Title', 'month', 'Schedule', 'amount', 'parties', 'Values', 'Exchange', 'addition', 'system', 'IN', 'assets', 'Condition', 'transaction', 'faith', 'Replacement', 'II', 'Percentage', 'advisers', 'limitation', 'Resolution', 'Aubervilliers', 'thereof', 'Interest', 'Local', 'Release', 'applies', 'right', 'percentage', 'charge', 'midmarket', 'encumbrance', 'deposits', 'Persons', 'payments', 'Day', 'occurrence', 'amounts', 'period', 'distributions', 'Settlement', 'Paragraph', 'centre', 'Governors', 'Ineligibility', 'dealings', 'Transactions', 'OTC', 'records', 'zero', 'Return', 'completion', 'Transferee', 'value', 'bank', 'United', 'foregoing', 'hereunder', 'creation', 'none', 'ii', 'Paris', 'appropriate', 'CSA', 'Period', 'designate', 'Adjustment', 'result', 'Date', 'Representation', 'transactions', 'Variables', 'WITNESS', 'eligibility', 'request', 'Market', 'hereof', 'Copyright', 'business', 'dispute', 'Valuations', 'portion', 'party', 'amendment', 'exchange', 'Affected', 'transfer', 'sufficient', 'resolution', 'notice', 'Attention', 'Court', 'release', 'Reserve', 'subject', 'holder', 'custodian', 'rate', 'rights', 'Location', 'vi', 'close', 'Credit', 'equals', 'Payment', 'Law', 'Dispute', 'purposes', 'maturity', 'margin', 'Form', 'trade', 'VP', 'Facsimile', 'publication', 'claims', 'course', 'Demands', 'place', 'Conditions', 'duty', 'attempt', 'number', 'successor', 'transfers', 'herein', 'Societe', 'basis', 'specifications', 'data', 'collateral', 'Legally', 'Master', 'definition', 'Notices', 'Cedex', 'Equivalent', 'recipient', 'account', 'title', 'proceeds', 'Quotation', 'Default', 'material', 'extent', 'mean', 'representation', 'Negative', 'Reinstatement', 'satisfaction', 'determinations', 'convenient', 'Quotations', 'forms', 'Ineligible', 'doubt', 'variation', 'Telephone', 'SUPPORT', 'demand', 'estimates', 'failure', 'cash', 'documents', 'VARIATION', 'Options', 'calendar', 'Matters', 'region', 'requirements', 'references', 'end', 'inconsistency', 'description', 'supplements', 'Sections', 'conditions', 'communication', 'Payer', 'Equivalents', 'practice', 'arrangement', 'manner', 'Total', 'Collateral', 'term', 'Funds', 'iv', 'applicable', 'Requirements', 'issuer', 'York', 'Reference', 'Business', 'Support', 'Notice', 'Paragraphs', 'Defaulting', 'city', 'procedures', 'connection', 'VM', 'day', 'books', 'Applicable', 'Nothing', 'Provisions', 'condition', 'obligation', 'case', 'derivatives', 'Manner', 'HFX']\n",
      "---------------------------\n",
      "HBUS00002134-00002150.pdf\n",
      "===============================================================\n",
      "No. of word phrases in the documnet : 787\n",
      "Noun phrases in the document : \n",
      "['propeny', 'tC', 'Case', 'Dt', 'Confidential', 'hypothecation', 'Transaction', 'PrtUaion', 'Rate', 'Anything', 'dispose', 'agreement', 'agent', 'property', 'accordance', 'proceeding', 'option', 'use', 'name', 'illegality', 'NY', 'llil', 'DOt', 'enrlt', 'perCentage', 'Poor', 'below', 'Events', 'Minimum', 'multiple', 'graming', 'Rau', 'Valqation', 'currency', 'sum', 'Secu', 'Specified', 'Provider', 'rigb', 'wbich', 'Independent', 'items', 'Agen', 'suam', 'Holdings', 'Amouil', 'Termination', 'imerest', 'iscd', 'Part', 'Jul', 'Time', 'Rating', 'Disputing', 'minus', 'Pcisred', 'None', 'classification', 'Thresholds', 'division', 'rhe', 'Collareral', 'form', 'Substitutions', 'disposition', 'deliveries', 'peMeru', 'ionAgem', 'July', 'contents', 'credit', 'Dtjicinu', 'Recalcvlgtio', 'Remt', 'maker', 'effect', 'meaning', 'New', 'pwsuam', 'Spedficatiorrs', 'Pazagraph', 'Event', 'demands', 'levels', 'Securities', 'Government', 'terms', 'Recalculation', 'dispule', 'Rated', 'rehypothecare', 'CoUsteral', 'IO', 'SENIOR', 'table', 'States', 'ParagJaph', 'Lelunan', 'duly', 'part', 'AmoiUit', 'events', 'fonn', 'calculations', 'rise', 'purpose', 'assignment', 'turd', 'Value', 'Transfer', 'times', 'intennediary', 'pursuarit', 'determination', 'agencies', 'Otnu', 'action', 'raDSfer', 'CREDIT', 'dU', 'paymem', 'office', 'Panyj', 'Suppon', 'date', 'ratings', 'location', 'aluarion', 'Posxed', 'Document', 'certificates', 'dale', 'Disttibutions', 'Substitution', 'Timing', 'comrol', 'beld', 'Crt', 'mex', 'charges', 'PRESIDENT', 'pledgor', 'Lehman', 'restrictions', 'instruments', 'Debt', 'ofT', 'msfer', 'years', 'held', 'Association', 'valuations', 'pledge', 'zl', 'amountS', 'ANNEX', 'market', 'pwsuant', 'Amouni', 'Paragiaph', 'mlt', 'aragnpb', 'USD', 'Supporr', 'dare', 'rigbts', 'assessments', 'register', 'pursuant', 'Transfu', 'pocceeds', 'order', 'lien', 'mi', 'instructions', 'Bills', 'ition', 'CotrditiDm', 'behalf', 'oa', 'International', 'support', 'doctimem', 'acknowledges', 'blank', 'Def', 'Collarera', 'accounts', 'Water', 'Tenninarion', 'whatsOever', 'obligations', 'RI', 'creazion', 'tax', 'Pledgor', 'remedies', 'assessmentS', 'thar', 'Standard', 'il', 'Care', 'Confirmation', 're', 'dit', 'price', 'Account', 'ill', 'Posti', 'Further', 'Federal', 'Department', 'SUpport', 'provisions', 'rt', 'Agt', 'expenses', 'Tnmsfa', 'Exposure', 'lO', 'Ex', 'wbalsoCver', 'AmOunt', 'Clearing', 'Plaza', 'um', 'Certain', 'UIIder', 'eia', 'Without', 'Tr', 'Days', 'Section', 'Collateiai', 'owner', 'financing', 'wire', 'Treasury', 'average', 'Chase', 'Interpretation', 'Hold', 'powers', 'Turring', 'Distributions', 'Amamt', 'partY', 'Ial', 'document', 'Collaxeral', 'issue', 'Delivery', 'Good', 'interest', 'Eligible', 'usa', 'No', 'Swaps', 'care', 'capacity', 'error', 'hereby', 'CrediL', 'Transferred', 'Annex', 'parcy', 'uhSat', 'Calculations', 'Collareia', 'Al', 'aggregate', 'Parngxaph', 'October', 'payment', 'tbe', 'delivery', 'Number', 'Secured', 'Rights', 'item', 'Consent', 'Hill', 'ResolUtion', 'MIRZA', 'Management', 'stamps', 'Elections', 'St', 'amoum', 'product', 'commingle', 'time', 'ceives', 'costs', 'LU', 'enem', 'securities', 'redemption', 'relevant', 'Citibank', 'Remedies', 'Name', 'Distriblitions', 'erest', 'PoSted', 'Definitiom', 'Amount', 'amoums', 'equivalent', 'Paxagr', 'Security', 'preceding', 'Faith', 'respect', 'meanings', 'Addresses', 'riglns', 'set', 'Group', 'disputes', 'interests', 'Agem', 'NSCC', 'event', 'application', 'TaxEvent', 'otheiWise', 'Use', 'LOCal', 'encumbtance', 'days', 'Tuning', 'Unless', 'Bank', 'Swap', 'instrumentalities', 'jurisdiction', 'Valuation', 'Martus', 'institution', 'amoont', 'SecUred', 'Obligations', 'Eigible', 'means', 'Perfon', 'quotations', 'notices', 'type', 'Eligibility', 'Tzme', 'invest', 'Patty', 'byS', 'AmollJIL', 'security', 'oansfer', 'Substitute', 'Agreement', 'law', 'Substitul', 'aad', 'presem', 'Subject', 'Merger', 'floorWFC', 'IIOIUIL', 'POSted', 'ny', 'sen', 'Jiidri', 'thal', 'Collmertd', 'Derivatives', 'Notes', 'sentence', 'bUsiness', 'herewith', 'pasure', 'Holding', 'anyLo', 'Bonds', 'Posred', 'depository', 'puipOSeS', 'CoUateral', 'Notification', 'Ji', 'Moody', 'Commercial', 'Transfers', 'nominee', 'nance', 'recalculation', 'Threshold', 'Distriblllions', 'clause', 'USA', 'calculation', 'Agent', 'Bressamt', 'Corx', 'principal', 'rhar', 'mortgage', 'results', 'Finance', 'patty', 'secunttes', 'lieu', 'Notifii', 'estimate', 'Amounts', 'mxice', 'Custotlitm', 'claim', 'consent', 'Iruk', 'Code', 'dispositions', 'hereinafter', 'Creqit', 'afu', 'Director', 'Service', 'Expenses', 'Street', 'Cret', 'Inconsistency', 'enforce', 'bid', 'Percemage', 'iii', 'issuance', 'Except', 'lnte', 'Party', 'Ed', 'Satisfy', 'omissions', 'Valuat', 'tDJCes', 'Title', 'Amoum', 'ransfencd', 'FIIJ', 'orlien', 'Schedule', 'Ddivery', 'exceeds', 'Custodian', 'parties', 'amount', 'ph', 'Aaa', 'Brothers', 'fails', 'AI', 'Substirute', 'Asslll', 'pwsuanr', 'Additional', 'equivalc', 'debt', 'Condition', 'Securc', 'faith', 'exercise', 'Replacement', 'andlor', 'GoteraL', 'quotation', 'II', 'section', 'rime', 'Percentage', 'bal', 'sales', 'representations', 'Resolution', 'BROTHERS', 'fuilme', 'therelo', 'thereof', 'Interest', 'defmition', 'Local', 'assignments', 'prOCedures', 'PartyB', 'Pangraph', 'liPery', 'Suimirlrrions', 'Clause', 'right', 'charge', 'Posted', 'encumbrance', 'deposits', 'subdivision', 'Pangrapb', 'payments', 'Day', 'OOO', 'Vaburtion', 'ofDefimh', 'amounts', 'Palagraphs', 'grants', 'Aal', 'mimis', 'period', 'SupPc', 'dividends', 'distributions', 'md', 'calcUlations', 'Paragraph', 'VICE', 'narure', 'WFC', 'dealings', 'Paragxaph', 'Transactions', 'As', 'resniction', 'Retum', 'record', 'extern', 'rigbt', 'Agreemem', 'Cash', 'NSC', 'DisPute', 'suit', 'records', 'Casb', 'favor', 'ies', 'liquidation', 'substitution', 'zero', 'COstS', 'Return', 'hours', 'Fuuzl', 'Pa', 'equity', 'regardless', 'Collatc', 'value', 'bank', 'United', 'ExposUre', 'hereunder', 'resoiution', 'power', 'relevam', 'Percentagti', 'Custodians', 'ii', 'company', 'custOdy', 'holding', 'entity', 'sale', 'file', 'llDd', 'liability', 'Period', 'Imerest', 'recipiem', 'latl', 'parries', 'USDlOO', 'teims', 'TI', 'result', 'Date', 'thai', 'Variables', 'Representation', 'Aaoam', 'liit', 'Posteli', 'pertaining', 'Vahuzzion', 'Proceeds', 'Commudlzlly', 'refereriees', 'pur', 'nature', 'Secared', 'Market', 'abuziion', 'hereof', 'business', 'dispute', 'Parry', 'ed', 'lli', 'Collaieral', 'Colkztend', 'portion', 'BusinesS', 'party', 'fa', 'wrinen', 'exchange', 'tion', 'Defa', 'tha', 'Affected', 'FINANCE', 'Aimex', 'transfer', 'resolution', 'acruaJ', 'notice', 'priority', 'release', 'qUotations', 'Reserve', 'subject', 'determiDed', 'Signatory', 'Rt', 'appointment', 'rate', 'rights', 'benefit', 'close', 'Busizless', 'degree', 'Credit', 'equals', 'Upon', 'ABA', 'Dispute', 'purposes', 'maturity', 'Pany', 'pany', 'Amoont', 'Tax', 'Will', 'Banks', 'Pmgraph', 'place', 'Conditions', 'Pasted', 'ofany', 'melUlS', 'ifPledgor', 'ofNew', 'duty', 'number', 'attempt', 'Pangtapb', 'Retllm', 'th', 'ransfer', 'FAO', 'Attn', 'herein', 'Set', 'basis', 'documems', 'BANK', 'irems', 'tO', 'specifications', 'collal', 'Master', 'Notices', 'UDless', 'Uniform', 'recipient', 'account', 'proceeds', 'Default', 'Quotation', 'AAA', 'Urs', 'Floor', 'Dati', 'assign', 'UnlesS', 'BBB', 'equivalem', 'ragraph', 'extent', 'actions', 'actS', 'aware', 'taxes', 'LEHMAN', 'year', 'dose', 'satisfaction', 'determinations', 'ion', 'prqx', 'AmnunL', 'oli', 'aSstiming', 'tranSfer', 'absent', 'GenoaL', 'forms', 'deliver', 'Seemed', 'SUPPORT', 'therein', 'demand', 'failure', 'estimates', 'rating', 'cash', 'documents', 'tllCrein', 'floor', 'laws', 'Pc', 'requirements', 'ratmg', 'Collatt', 'AA', 'substiiure', 'references', 'Amounf', 'Disposition', 'seCurity', 'Dale', 'HSBC', 'inconsistency', 'supplements', 'conditions', 'Precedent', 'thereto', 'manner', 'Collateral', 'term', 'Sarah', 'pledges', 'iv', 'applicable', 'Wmdow', 'TUBe', 'accoum', 'acts', 'York', 'Reference', 'Business', 'Support', 'ra', 'Investors', 'pursuam', 'Paragraphs', 'Defaulting', 'copy', 'corporation', 'rty', 'Using', 'State', 'UDder', 'connection', 'sarisfies', 'day', 'EliZABETH', 'binc', 'Baal', 'Evem', 'Dare', 'parry', 'subsidiary', 'Provisions', 'COmPounding', 'forth', 'obligation', 'Confumations', 'case', 'Vabuuion', 'Collateial', 'government', 'Valualion', 'America']\n",
      "---------------------------\n"
     ]
    }
   ],
   "source": [
    "# importing required packages\n",
    "import re\n",
    "import os\n",
    "import nltk\n",
    "import json\n",
    "from pathlib import Path\n",
    "from tika import parser\n",
    "\n",
    "# fetching_path_to_documents_location_from_configuration_file\n",
    "with open(\"conf.json\") as json_conf : \n",
    "    CONF = json.load(json_conf)\n",
    "\n",
    "directory = format(CONF[\"base_path\"])\n",
    "#print(format(CONF[\"base_path\"]))\n",
    "\n",
    "# function to extract grammer pattern from text\n",
    "def grammerPatternExtraction(chunkName,attribute_list):\n",
    "    # for each phrase sub tree in the parse tree\n",
    "    for subtree in tree.subtrees(filter=lambda t: t.label() == chunkName):\n",
    "        # appending the phrase from a list of part-of-speech tagged words\n",
    "        attribute_list.append(\" \".join([word for word, pos in subtree]))\n",
    "    return attribute_list\n",
    "\n",
    "# traversing through all the docs in the directory\n",
    "for filename in os.listdir(directory):\n",
    "    # filtering the docs ending with .pdf's and .PDF's\n",
    "    if filename.endswith(\".pdf\") or filename.endswith(\".PDF\"): \n",
    "        # building the path to each file\n",
    "        file = os.path.join(directory, filename)\n",
    "        print(filename)\n",
    "        print(\"===============================================================\")\n",
    "        # using tika's parser to extract text from pdf\n",
    "        text = parser.from_file(file)\n",
    "        # extracting required content from tika's output\n",
    "        text=text[\"content\"]\n",
    "        text = text.replace(\"\\n\",\"\")\n",
    "        #print(text)\n",
    "        # sentences tokenizer\n",
    "        sentences = nltk.sent_tokenize(str(text))\n",
    "        # word tokenize each sentence\n",
    "        sentences = [nltk.word_tokenize(sent) for sent in sentences]\n",
    "        # pos tagging each sentence\n",
    "        sentences = [nltk.pos_tag(sent) for sent in sentences]\n",
    "        #print(sentences)\n",
    "        # defining a grammar with a regular-expression rule \n",
    "        grammar = r\"\"\"\n",
    "        NP: {<NN.*>}\n",
    "        \"\"\"\n",
    "        # creating a chunk parser\n",
    "        cp = nltk.RegexpParser(grammar)\n",
    "        # looping over all the sentences from extracted text\n",
    "        noun_phrases = []\n",
    "        for sent in sentences:\n",
    "            tree = cp.parse(sent)\n",
    "            # calling grammerPatternExtraction method to extract the words which has required chunk grammer patterns\n",
    "            noun_phrases = grammerPatternExtraction(\"NP\",noun_phrases)\n",
    "        # filterng list elements with character length one\n",
    "        noun_phrases = [word for word in noun_phrases if len(word)>1]\n",
    "        # filtering alphanumeric and numeric elements from list\n",
    "        noun_phrases = [word for word in noun_phrases if word.isalpha()]\n",
    "        # printing the length of list\n",
    "        print(\"No. of word phrases in the documnet : \"+str(len(list(set(noun_phrases)))))\n",
    "        # printing the final list of noun phrases from documents\n",
    "        print(\"Noun phrases in the document : \")\n",
    "        print(list(set(noun_phrases)))\n",
    "        print(\"---------------------------\")"
   ]
  },
  {
   "cell_type": "code",
   "execution_count": null,
   "metadata": {
    "collapsed": true
   },
   "outputs": [],
   "source": []
  }
 ],
 "metadata": {
  "kernelspec": {
   "display_name": "Python 3",
   "language": "python",
   "name": "python3"
  }
 },
 "nbformat": 4,
 "nbformat_minor": 2
}
